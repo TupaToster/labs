{
 "cells": [
  {
   "cell_type": "code",
   "execution_count": 2,
   "metadata": {},
   "outputs": [
    {
     "name": "stdout",
     "output_type": "stream",
     "text": [
      "[0.5 1.  1.5 2.  2.5 3.  3.5] [0.6 1.1 1.5 2.  2.4 2.8 3.2]\n"
     ]
    }
   ],
   "source": [
    "import matplotlib.pyplot as plt\n",
    "import numpy as np\n",
    "\n",
    "Imax = 5.08 #Amps\n",
    "Vmax = 31.3 #Volts\n",
    "\n",
    "\n",
    "# F = BSN\n",
    "\n",
    "SN = 3000 #cm2\n",
    "l = 0.265 #m\n",
    "\n",
    "F0 = 5 #mWb\n",
    "\n",
    "F = [4.4, 3.9, 3.5, 3.0, 2.6, 2.2, 1.8]\n",
    "I = [0.5, 1.0, 1.5, 2.0, 2.5, 3.0, 3.5]\n",
    "\n",
    "I = np.array (I)\n",
    "F = F0 - np.array (F)\n",
    "\n",
    "I_focal_plus = [0.64, 1.31, 1.99, 2.7,  3.3,  4.31]\n",
    "V_focal_plus = [3.9,  8.1,  12.2, 16.6, 20.4, 25.7]\n",
    "\n",
    "I_focal_minus = [1.27, 1.99, 2.67, 3.35, 3.99]\n",
    "V_focal_minus = [8.2,  13.0, 17.3, 21.5, 25.7]\n",
    "\n",
    "plt.plot (I_focal_plus, V_focal_plus)\n",
    "\n",
    "V_amp = 0.9 #kV\n",
    "\n"
   ]
  }
 ],
 "metadata": {
  "kernelspec": {
   "display_name": "Python 3",
   "language": "python",
   "name": "python3"
  },
  "language_info": {
   "codemirror_mode": {
    "name": "ipython",
    "version": 3
   },
   "file_extension": ".py",
   "mimetype": "text/x-python",
   "name": "python",
   "nbconvert_exporter": "python",
   "pygments_lexer": "ipython3",
   "version": "3.10.12"
  },
  "orig_nbformat": 4
 },
 "nbformat": 4,
 "nbformat_minor": 2
}
