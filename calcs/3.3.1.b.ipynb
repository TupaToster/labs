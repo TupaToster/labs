{
 "cells": [
  {
   "cell_type": "code",
   "execution_count": null,
   "metadata": {},
   "outputs": [],
   "source": [
    "import numpy as np\n",
    "import matplotlib.pyplot as plt\n",
    "\n",
    "\n",
    "V = [71, 60, 50, 45, 40]\n",
    "\n",
    "K = 3.5 * 10**-2 # Т/А\n",
    "r_a = 12 #mm\n",
    "\n",
    "# mA\n",
    "I_anod = [[56, 56, 56, 57, 57, 57, 57, 57, 58, 53, 32, 13,  8,  6,  5,  4,  4,  3,  3],\n",
    "          [57, 57, 57, 54, 54, 52, 22,  9,  6,  2],\n",
    "          [53, 53, 55, 54, 53, 53, 54, 37, 14,  6,  4,  3],\n",
    "          [55, 55, 54, 55, 53, 43, 13,  6,  4],\n",
    "          [55, 55, 55, 55, 54, 54, 54, 24, 12,  5,  3,  2,  1]\n",
    "          ]\n",
    "I_solen = [[5, 10, 15, 20, 25, 30, 35, 40, 45, 46, 47, 48, 49, 50, 51, 52, 53, 54, 55],\n",
    "           [10, 20, 30, 40, 41, 42, 43, 44, 45, 50],\n",
    "          [10, 20, 30, 35, 36, 37, 38, 39, 40, 41, 42, 43],\n",
    "          [10, 20, 30, 35, 36, 37, 38, 39, 40],\n",
    "          [10, 20, 30, 31, 32, 33, 34, 35, 36, 37, 38, 39, 40]\n",
    "          ]\n",
    "#in something (should be scaled later) 0.3 amps * x / 75\n",
    "\n",
    "plt.plot (I_solen[0], I_anod[0], color = \"green\")\n",
    "plt.plot (I_solen[1], I_anod[1], color = \"blue\")\n",
    "plt.plot (I_solen[2], I_anod[2], color = \"yellow\")\n",
    "plt.plot (I_solen[3], I_anod[3], color = \"black\")\n",
    "plt.plot (I_solen[4], I_anod[4], color = \"magenta\")"
   ]
  }
 ],
 "metadata": {
  "language_info": {
   "name": "python"
  },
  "orig_nbformat": 4
 },
 "nbformat": 4,
 "nbformat_minor": 2
}
