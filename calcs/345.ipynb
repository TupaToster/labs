{
 "cells": [
  {
   "cell_type": "code",
   "execution_count": 43,
   "metadata": {},
   "outputs": [],
   "source": [
    "import numpy as np\n",
    "import matplotlib.pyplot as plt"
   ]
  },
  {
   "cell_type": "code",
   "execution_count": 44,
   "metadata": {},
   "outputs": [],
   "source": [
    "#constants\n",
    "R_0 = 0.3 #ohm\n",
    "R_u = 20 * 10**3 #ohm\n",
    "C_u = 20 * 10**-6 #farad"
   ]
  },
  {
   "cell_type": "code",
   "execution_count": 45,
   "metadata": {},
   "outputs": [],
   "source": [
    "#Sample one\n",
    "#Пермаллой Fe-Ni НП50\n",
    "N_0 = 40 #витков\n",
    "N_u = 200 #витков\n",
    "S = 3.8 #cm^2\n",
    "round_len = 24 #cm, 2 * pi * R\n",
    "\n",
    "#data in table sheet1"
   ]
  },
  {
   "cell_type": "code",
   "execution_count": 46,
   "metadata": {},
   "outputs": [],
   "source": [
    "#Sample 2\n",
    "#Феррит 1000нн\n",
    "N_0 = 35 #витков\n",
    "N_u = 400 #витков\n",
    "S = 3.0 #cm^2\n",
    "round_len = 25 #cm\n",
    "\n",
    "#data in table sheet 2\n"
   ]
  },
  {
   "cell_type": "code",
   "execution_count": 47,
   "metadata": {},
   "outputs": [],
   "source": [
    "#Sample 3\n",
    "#Кремнистое железо Fe-Si\n",
    "N_0 = 35 # витков\n",
    "N_u = 350 # витков\n",
    "S = 1.2 #cm^2\n",
    "round_len = 10 #cm\n",
    "\n",
    "#data in table sheet 3"
   ]
  },
  {
   "cell_type": "code",
   "execution_count": 48,
   "metadata": {},
   "outputs": [
    {
     "data": {
      "text/plain": [
       "array([0.01332896, 0.0026668 , 0.0094328 ])"
      ]
     },
     "execution_count": 48,
     "metadata": {},
     "output_type": "execute_result"
    }
   ],
   "source": [
    "#Part 2\n",
    "K_x_real = [0.02, 0.01, 0.05] / 5\n",
    "K_x_real = np.array (K_x_real)\n",
    "I_ef = [0.2276, 0.1124, 0.5732]\n",
    "I_ef = np.array (I_ef)\n",
    "K_x_calc = 2 * R_0 * np.sqrt (2) * I_ef / (2 * 24)\n",
    "\n",
    "K_y_real = [0.1, 0.01, 0.05] / 5\n",
    "K_y_real = np.array (K_y_real)\n",
    "U_ef = [0.1885, 0.0264, 0.1334]\n",
    "U_ef = np.array (U_ef)\n",
    "y = [20, 14, 20]\n",
    "y = np.array (y)\n",
    "K_y_calc = 2 * np.sqrt (2) * U_ef / (2 * y)\n",
    "K_y_calc"
   ]
  },
  {
   "cell_type": "code",
   "execution_count": 49,
   "metadata": {},
   "outputs": [
    {
     "data": {
      "text/plain": [
       "0.42441318157838753"
      ]
     },
     "execution_count": 49,
     "metadata": {},
     "output_type": "execute_result"
    }
   ],
   "source": [
    "#Part 3\n",
    "U_in = 2 * 20 * 1\n",
    "U_out = 2 * 15 * 0.01\n",
    "w = 50 * 2 * np.pi\n",
    "tau = U_in / (w * U_out)\n",
    "tau"
   ]
  }
 ],
 "metadata": {
  "kernelspec": {
   "display_name": "Python 3",
   "language": "python",
   "name": "python3"
  },
  "language_info": {
   "codemirror_mode": {
    "name": "ipython",
    "version": 3
   },
   "file_extension": ".py",
   "mimetype": "text/x-python",
   "name": "python",
   "nbconvert_exporter": "python",
   "pygments_lexer": "ipython3",
   "version": "3.10.12"
  }
 },
 "nbformat": 4,
 "nbformat_minor": 2
}
