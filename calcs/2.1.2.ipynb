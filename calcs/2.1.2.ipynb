{
 "cells": [
  {
   "cell_type": "code",
   "execution_count": null,
   "metadata": {},
   "outputs": [],
   "source": [
    "import numpy as np\n",
    "import matplotlib.pyplot as plt\n",
    "\n",
    "h0 = 17.2 #cm\n",
    "\n",
    "h1 = [21.7, 22.1, 21.9, 22.0, 21.5, 22.0] #cm\n",
    "h2 = [18.0, 18.2, 18.1, 18.5, 18.1, 18.1] #cm\n",
    "\n",
    "#everything is measured in absolute. To get deltaP subtract h0 and *2\n",
    "\n",
    "h1 = [(i - h0) * 2 for i in h1]\n",
    "h2 = [(i - h0) * 2 for i in h2]\n",
    "# h = [[(j - h0) * 2 for j in i] for i in h]\n",
    "\n",
    "\n",
    "h1 = np.array (h1)\n",
    "h2 = np.array (h2)\n",
    "\n",
    "plt.figure (figsize = (16, 9), dpi = 200)\n",
    "plt.grid ()\n",
    "plt.xlabel (r'$\\Delta t$')\n",
    "plt.ylabel (r'$\\Sigma$')\n",
    "x = [0.5, 1, 2]\n",
    "y = [1.263, 1.165, 1.124]\n",
    "plt.plot (x, y, \".b\")\n",
    "z = np.polyfit (x, y, 1)\n",
    "X = np.linspace (0, 2, 1000)\n",
    "z = np.poly1d (z)\n",
    "plt.plot (X, z(X), \"k-\")\n",
    "plt.plot (0.1, z(0.1), \"dg\")\n",
    "print (z (0.1))\n",
    "plt.savefig (\"fig.png\")\n"
   ]
  }
 ],
 "metadata": {
  "kernelspec": {
   "display_name": "Python 3",
   "language": "python",
   "name": "python3"
  },
  "language_info": {
   "name": "python",
   "version": "3.10.6"
  },
  "orig_nbformat": 4
 },
 "nbformat": 4,
 "nbformat_minor": 2
}
